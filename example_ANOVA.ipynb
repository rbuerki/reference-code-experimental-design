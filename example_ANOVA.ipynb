{
 "cells": [
  {
   "cell_type": "markdown",
   "metadata": {},
   "source": [
    "# One-way Analysis of Variance (ANOVA) with Python\n",
    "\n",
    "Testing if different groups or sub-populations arise from the same population, or if they represent different populations (with different parameters).\n",
    "\n",
    "ANOVA basically decomposes the variances within each group and among groups, relying on the Null Hypothesis that groups / samples have been drawn from the same population, hence their means are equivalent. It produces an F-statistic. \n",
    "\n",
    "For high values of F (generally higher than 3.68, which corresponds to a significance level of 5%) we can reject with sufficient confidence the Null, concluding that groups are not arising from the same population.m"
   ]
  },
  {
   "cell_type": "markdown",
   "metadata": {
    "toc": true
   },
   "source": [
    "<h1>Table of Contents<span class=\"tocSkip\"></span></h1>\n",
    "<div class=\"toc\"><ul class=\"toc-item\"><li><span><a href=\"#Case-Study---manual\" data-toc-modified-id=\"Case-Study---manual-1\"><span class=\"toc-item-num\">1&nbsp;&nbsp;</span>Case Study - manual</a></span></li><li><span><a href=\"#Verification-&amp;-Visualization-with-Stats-packages\" data-toc-modified-id=\"Verification-&amp;-Visualization-with-Stats-packages-2\"><span class=\"toc-item-num\">2&nbsp;&nbsp;</span>Verification &amp; Visualization with Stats packages</a></span></li></ul></div>"
   ]
  },
  {
   "cell_type": "code",
   "execution_count": 1,
   "metadata": {
    "ExecuteTime": {
     "end_time": "2019-09-29T10:29:14.140020Z",
     "start_time": "2019-09-29T10:29:12.765918Z"
    }
   },
   "outputs": [],
   "source": [
    "import numpy as np\n",
    "import pandas as pd\n",
    "import matplotlib.pyplot as plt\n",
    "color='rebeccapurple'\n",
    "%matplotlib inline"
   ]
  },
  {
   "cell_type": "markdown",
   "metadata": {},
   "source": [
    "## Case Study - manual\n",
    "\n",
    "As a case study, imagine a bunch of students from different colleges taking the same exam. You want to see if one college outperforms the other, hence your null hypothesis is that the means of GPAs in each group are equivalent to those of the other groups. To keep it simple, we will consider 3 groups (college ‘A’, ‘B’, ‘C’) with 6 students each."
   ]
  },
  {
   "cell_type": "code",
   "execution_count": 2,
   "metadata": {
    "ExecuteTime": {
     "end_time": "2019-09-29T10:29:14.182191Z",
     "start_time": "2019-09-29T10:29:14.144923Z"
    }
   },
   "outputs": [
    {
     "data": {
      "text/html": [
       "<div>\n",
       "<style scoped>\n",
       "    .dataframe tbody tr th:only-of-type {\n",
       "        vertical-align: middle;\n",
       "    }\n",
       "\n",
       "    .dataframe tbody tr th {\n",
       "        vertical-align: top;\n",
       "    }\n",
       "\n",
       "    .dataframe thead th {\n",
       "        text-align: right;\n",
       "    }\n",
       "</style>\n",
       "<table border=\"1\" class=\"dataframe\">\n",
       "  <thead>\n",
       "    <tr style=\"text-align: right;\">\n",
       "      <th></th>\n",
       "      <th>A</th>\n",
       "      <th>B</th>\n",
       "      <th>C</th>\n",
       "    </tr>\n",
       "  </thead>\n",
       "  <tbody>\n",
       "    <tr>\n",
       "      <td>0</td>\n",
       "      <td>25</td>\n",
       "      <td>30</td>\n",
       "      <td>18</td>\n",
       "    </tr>\n",
       "    <tr>\n",
       "      <td>1</td>\n",
       "      <td>25</td>\n",
       "      <td>30</td>\n",
       "      <td>30</td>\n",
       "    </tr>\n",
       "    <tr>\n",
       "      <td>2</td>\n",
       "      <td>27</td>\n",
       "      <td>21</td>\n",
       "      <td>29</td>\n",
       "    </tr>\n",
       "    <tr>\n",
       "      <td>3</td>\n",
       "      <td>30</td>\n",
       "      <td>24</td>\n",
       "      <td>29</td>\n",
       "    </tr>\n",
       "    <tr>\n",
       "      <td>4</td>\n",
       "      <td>23</td>\n",
       "      <td>26</td>\n",
       "      <td>24</td>\n",
       "    </tr>\n",
       "    <tr>\n",
       "      <td>5</td>\n",
       "      <td>20</td>\n",
       "      <td>28</td>\n",
       "      <td>26</td>\n",
       "    </tr>\n",
       "  </tbody>\n",
       "</table>\n",
       "</div>"
      ],
      "text/plain": [
       "    A   B   C\n",
       "0  25  30  18\n",
       "1  25  30  30\n",
       "2  27  21  29\n",
       "3  30  24  29\n",
       "4  23  26  24\n",
       "5  20  28  26"
      ]
     },
     "metadata": {},
     "output_type": "display_data"
    }
   ],
   "source": [
    "# Create dataframe\n",
    "\n",
    "a = [25,25,27,30,23,20]\n",
    "b = [30,30,21,24,26,28]\n",
    "c = [18,30,29,29,24,26]\n",
    "\n",
    "list_of_tuples = list(zip(a, b,c))\n",
    "df = pd.DataFrame(list_of_tuples, columns = ['A', 'B', 'C'])\n",
    "display(df)"
   ]
  },
  {
   "cell_type": "markdown",
   "metadata": {},
   "source": [
    "Necessary assumptions:\n",
    "- Response variable residuals are (approximately) normally distributed\n",
    "- Variances of populations are equal\n",
    "- Responses for a given group are independent and identically distributed normal random variables"
   ]
  },
  {
   "cell_type": "code",
   "execution_count": 3,
   "metadata": {
    "ExecuteTime": {
     "end_time": "2019-09-29T10:29:14.212298Z",
     "start_time": "2019-09-29T10:29:14.198194Z"
    }
   },
   "outputs": [
    {
     "name": "stdout",
     "output_type": "stream",
     "text": [
      "Average mark for college A: 25.0\n",
      "Average mark for college B: 26.5\n",
      "Average mark for college C: 26.0\n"
     ]
    }
   ],
   "source": [
    "# Step 1: compute the average mark for each college\n",
    "\n",
    "m1 = np.mean(a)\n",
    "m2 = np.mean(b)\n",
    "m3 = np.mean(c)\n",
    "\n",
    "print('Average mark for college A: {}'.format(m1))\n",
    "print('Average mark for college B: {}'.format(m2))\n",
    "print('Average mark for college C: {}'.format(m3))"
   ]
  },
  {
   "cell_type": "code",
   "execution_count": 4,
   "metadata": {
    "ExecuteTime": {
     "end_time": "2019-09-29T10:29:14.223199Z",
     "start_time": "2019-09-29T10:29:14.216188Z"
    }
   },
   "outputs": [
    {
     "name": "stdout",
     "output_type": "stream",
     "text": [
      "Overall mean: 25.833333333333332\n"
     ]
    }
   ],
   "source": [
    "# Step 2: compute the overall mean \n",
    "\n",
    "k = 3 # overall number of groups\n",
    "m = (m1 + m2 + m3)/k\n",
    "\n",
    "print('Overall mean: {}'.format(m)) "
   ]
  },
  {
   "cell_type": "code",
   "execution_count": 5,
   "metadata": {
    "ExecuteTime": {
     "end_time": "2019-09-29T10:29:14.235203Z",
     "start_time": "2019-09-29T10:29:14.226187Z"
    }
   },
   "outputs": [
    {
     "name": "stdout",
     "output_type": "stream",
     "text": [
      "Between-groups Sum of Squared Differences: 6.999999999999999\n"
     ]
    }
   ],
   "source": [
    "# Step 3: compute the ‘between-group’ sum of squared differences \n",
    "\n",
    "n = 6 # number of observations per group\n",
    "SSb = n*((m1-m)**2 + (m2-m)**2 + (m3-m)**2)\n",
    "print('Between-groups Sum of Squared Differences: {}'.format(SSb))"
   ]
  },
  {
   "cell_type": "code",
   "execution_count": 6,
   "metadata": {
    "ExecuteTime": {
     "end_time": "2019-09-29T10:29:14.244185Z",
     "start_time": "2019-09-29T10:29:14.238185Z"
    }
   },
   "outputs": [
    {
     "name": "stdout",
     "output_type": "stream",
     "text": [
      "Between-groups Mean Square value: 3.4999999999999996\n"
     ]
    }
   ],
   "source": [
    "# With those results, we compute one of the components of F-score, which is the between-group mean square value (MSb)\n",
    "\n",
    "df = k-1\n",
    "MSb = SSb/df\n",
    "\n",
    "print('Between-groups Mean Square value: {}'.format(MSb))"
   ]
  },
  {
   "cell_type": "code",
   "execution_count": 7,
   "metadata": {
    "ExecuteTime": {
     "end_time": "2019-09-29T10:29:14.256186Z",
     "start_time": "2019-09-29T10:29:14.248253Z"
    }
   },
   "outputs": [
    {
     "name": "stdout",
     "output_type": "stream",
     "text": [
      "Within-group Sum of Squared Differences: 223.5\n"
     ]
    }
   ],
   "source": [
    "# Step 4: calculate the “within-group” sum of squares\n",
    "\n",
    "err_a_list = list(a-m1)\n",
    "err_b_list = list(b-m2)\n",
    "err_c_list = list(c-m3)\n",
    "err = err_a_list + err_b_list + err_c_list\n",
    "\n",
    "ssw = [i**2 for i in err]\n",
    "SSw = np.sum (ssw)\n",
    "\n",
    "print('Within-group Sum of Squared Differences: {}'.format(SSw))"
   ]
  },
  {
   "cell_type": "code",
   "execution_count": 8,
   "metadata": {
    "ExecuteTime": {
     "end_time": "2019-09-29T10:29:14.264188Z",
     "start_time": "2019-09-29T10:29:14.259342Z"
    }
   },
   "outputs": [
    {
     "name": "stdout",
     "output_type": "stream",
     "text": [
      "Within-group Mean Square value: 14.9\n"
     ]
    }
   ],
   "source": [
    "# Again, knowing that there are k(n-1) within-group degrees of freedom (hence in our case 15), \n",
    "# we can compute the within-group mean square value\n",
    "\n",
    "MSw = SSw / (k*(n-1))\n",
    "print('Within-group Mean Square value: {}'.format(MSw))"
   ]
  },
  {
   "cell_type": "code",
   "execution_count": 9,
   "metadata": {
    "ExecuteTime": {
     "end_time": "2019-09-29T10:29:14.275338Z",
     "start_time": "2019-09-29T10:29:14.267186Z"
    }
   },
   "outputs": [
    {
     "name": "stdout",
     "output_type": "stream",
     "text": [
      "F-score: 0.23489932885906037\n"
     ]
    }
   ],
   "source": [
    "# Step 5: compute the F-score\n",
    "\n",
    "F = MSb / MSw \n",
    "print('F-score: {}'.format(F)) "
   ]
  },
  {
   "cell_type": "markdown",
   "metadata": {},
   "source": [
    "## Verification & Visualization with Stats packages"
   ]
  },
  {
   "cell_type": "code",
   "execution_count": 10,
   "metadata": {
    "ExecuteTime": {
     "end_time": "2019-09-29T10:29:14.817341Z",
     "start_time": "2019-09-29T10:29:14.282195Z"
    }
   },
   "outputs": [
    {
     "data": {
      "text/plain": [
       "F_onewayResult(statistic=0.2348993288590604, pvalue=0.793504662732833)"
      ]
     },
     "execution_count": 10,
     "metadata": {},
     "output_type": "execute_result"
    }
   ],
   "source": [
    "# Check result with scipy\n",
    "\n",
    "import scipy.stats as stats\n",
    "\n",
    "stats.f_oneway(a,b,c)"
   ]
  },
  {
   "cell_type": "markdown",
   "metadata": {},
   "source": [
    "If the assumptions above are true, the ratio MSb/MSw behaves as a Fisher distribution with (2,15) degrees of freedom"
   ]
  },
  {
   "cell_type": "code",
   "execution_count": 11,
   "metadata": {
    "ExecuteTime": {
     "end_time": "2019-09-29T10:29:15.410850Z",
     "start_time": "2019-09-29T10:29:14.820338Z"
    }
   },
   "outputs": [
    {
     "data": {
      "image/png": "[encoded data removed]",
      "text/plain": [
       "<Figure size 432x288 with 1 Axes>"
      ]
     },
     "metadata": {
      "needs_background": "light"
     },
     "output_type": "display_data"
    }
   ],
   "source": [
    "from scipy.stats import f\n",
    "\n",
    "\n",
    "fig, ax = plt.subplots(1, 1)\n",
    "dfn, dfd = 2,15\n",
    "x = np.linspace(f.ppf(0.01, dfn, dfd),f.ppf(0.99, dfn, dfd), 100)\n",
    "ax.plot(x, f.pdf(x, dfn, dfd),'r-', lw=5, alpha=0.6, label='f pdf', color=color);"
   ]
  },
  {
   "cell_type": "code",
   "execution_count": 13,
   "metadata": {
    "ExecuteTime": {
     "end_time": "2019-09-29T10:29:21.621534Z",
     "start_time": "2019-09-29T10:29:21.325911Z"
    }
   },
   "outputs": [
    {
     "data": {
      "image/png": "[encoded data removed]",
      "text/plain": [
       "<Figure size 432x288 with 1 Axes>"
      ]
     },
     "metadata": {
      "needs_background": "light"
     },
     "output_type": "display_data"
    }
   ],
   "source": [
    "# Set alpha, which the level of significance, equal to 5%. \n",
    "# The corresponding F-critical value is 3.68. \n",
    "\n",
    "fig, ax = plt.subplots(1, 1)\n",
    "dfn, dfd = 2,15\n",
    "x = np.linspace(f.ppf(0.01, dfn, dfd), f.ppf(0.99, dfn, dfd), 100)\n",
    "ax.plot(x, f.pdf(x, dfn, dfd),'r-', lw=5, alpha=0.6, label='f pdf', color=color)\n",
    "plt.axvline(x=3.68, label='Critical value for alpha=0.05', color='orange')\n",
    "plt.axvline(x=F, label='F-score', color='red')\n",
    "plt.legend();"
   ]
  },
  {
   "cell_type": "markdown",
   "metadata": {},
   "source": [
    "**Conclusion:** We do not reject the Null hypothesis about equality among means. We can conclude (with an error of 5%, or alternatively, with a confidence of 95%) that there is no significant difference between our three colleges A, B and C."
   ]
  },
  {
   "cell_type": "markdown",
   "metadata": {},
   "source": [
    "---"
   ]
  }
 ],
 "metadata": {
  "hide_input": false,
  "kernelspec": {
   "display_name": "Python 3",
   "language": "python",
   "name": "python3"
  },
  "language_info": {
   "codemirror_mode": {
    "name": "ipython",
    "version": 3
   },
   "file_extension": ".py",
   "mimetype": "text/x-python",
   "name": "python",
   "nbconvert_exporter": "python",
   "pygments_lexer": "ipython3",
   "version": "3.7.4"
  },
  "toc": {
   "base_numbering": 1,
   "nav_menu": {},
   "number_sections": true,
   "sideBar": false,
   "skip_h1_title": true,
   "title_cell": "Table of Contents",
   "title_sidebar": "Contents",
   "toc_cell": true,
   "toc_position": {},
   "toc_section_display": true,
   "toc_window_display": false
  }
 },
 "nbformat": 4,
 "nbformat_minor": 2
}
