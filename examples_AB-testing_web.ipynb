{
 "cells": [
  {
   "cell_type": "markdown",
   "metadata": {},
   "source": [
    "# Case Studies A/B-TEST\n",
    "\n",
    "The purpose of this notebook is to demonstrate and test some functions I have written for hypothesis testing, especially for A/B-tests (on proportions). The custom function files can be found in the codebook folder / repository."
   ]
  },
  {
   "cell_type": "code",
   "execution_count": 1,
   "metadata": {},
   "outputs": [],
   "source": [
    "# load libraries\n",
    "\n",
    "import numpy as np\n",
    "import pandas as pd\n",
    "import scipy.stats as stats\n",
    "\n",
    "# custom functions - see codebook folder / repository\n",
    "import cleaning_functions as cleaning\n",
    "import hypothesis_functions as exp\n",
    "\n",
    "import matplotlib.pyplot as plt\n",
    "% matplotlib inline"
   ]
  },
  {
   "cell_type": "markdown",
   "metadata": {},
   "source": [
    "---"
   ]
  },
  {
   "cell_type": "markdown",
   "metadata": {},
   "source": [
    "## Case Study 1: Increase of Software Downloads and Licence Purchases\n",
    "\n",
    "__Scenario:__ A productivity software company is looking for ways to increase the number of people who pay for their software. Users can download and use it free of charge, for a 7-day trial. After the end of the trial, users are required to pay for a license to continue using the software. The company wants to try to change the layout of the homepage to emphasize more prominently and higher up on the page that there is a 7-day trial available for the company's software. "
   ]
  },
  {
   "cell_type": "markdown",
   "metadata": {},
   "source": [
    "## General Workflow\n",
    "\n",
    "\n",
    "1. Build a user funnel\n",
    "2. Decide on metrics\n",
    "3. Perform experiment sizing\n",
    "4. Analyze results\n",
    "5. Draw conclusions"
   ]
  },
  {
   "cell_type": "markdown",
   "metadata": {},
   "source": [
    "### 1. Define user funnel\n",
    "\n",
    "A straightforward flow might include the following steps:\n",
    "- Visit homepage\n",
    "- Visit download page\n",
    "- Sign up for an account\n",
    "- Download software\n",
    "- After 7-day trial, software takes user to license-purchase page\n",
    "- Purchase license\n",
    "\n",
    "We'll assume that the potentially muddying effects of visits across multiple days, established user visits (e.g. for support or additional information), and 'lost' cookie tracking will be ignorable, at least unless we find reason to doubt our findings."
   ]
  },
  {
   "cell_type": "markdown",
   "metadata": {},
   "source": [
    "### 2. Define Metrics\n",
    "\n",
    "\n",
    "__General thoughts:__ \n",
    "\n",
    "From our user funnel, we should consider two things: \n",
    "1. where and how we should split users into experiment groups, and \n",
    "2. what metrics we will use to track the success or failure of the experimental manipulation. \n",
    "\n",
    "The choice of unit of diversion (the point at which we divide observations into groups) may affect what metrics we can use, and whether the metrics we record should be considered invariant or evaluation metrics.\n",
    "\n",
    "__Eval metrics decision:__\n",
    "\n",
    "First: A cookie-based diversion is chosen. \n",
    "\n",
    "Second: Metrics we want to keep track of (somewhat simplified here):\n",
    "* the number of cookies that are recorded @ homepage as a whole (invariate metric)\n",
    "* the number of clicks on the download button @ download page (eval metric)\n",
    "* the number of licenses purchased through the user accounts, each of which can be linked back to a particular condition (eval metric). \n",
    "\n",
    "Note on Evaluation metrics: \n",
    "- In this case ratios are better than count as ratios account for slight number imbalances between the two groups.\n",
    "- We will have to take into account that we have 2 evaluation metrics when we calculate our confidence level."
   ]
  },
  {
   "cell_type": "markdown",
   "metadata": {},
   "source": [
    "### 3. Experiment Sizing\n",
    "\n",
    "__Background info:__ Recent history shows that there are \n",
    "- about 3250 unique visitors per day, with slightly more visitors on Friday through Monday, than the rest of the week. \n",
    "- about 520 software downloads per day (a .16 rate) \n",
    "- about 65 licenses purchased each day (a .02 rate). \n",
    "\n",
    "In an ideal case, both the _download rate_ and the _license purchase rate_ should increase with the new homepage; a statistically significant negative change should be a sign to not deploy the homepage change. However, if only one of our metrics shows a statistically significant positive change we should be happy enough to deploy the new homepage.\n",
    "\n",
    "This means: If we want to preserve a maximum 5% Type I error rate for falsely deploying the homepage without any actual effect we should apply a Bonferroni correction: alpha_(individual) = alpha_(overall)/n. (Keep in mind: This is a one sided test.) - AND: Also make sure there is enough data for 2 groups! \n",
    "\n",
    "__Question 1:__ If we want to detect an increase of 50 downloads per day (up to 570 per day, or a .175 rate). How many days of data do we have to collect in order to get enough visitors to detect this new rate at an overall 5% Type I error rate and at 80% power.\n",
    "\n",
    "__Question 2:__ If we want to detect an increase of 10 license purchases per day (up to 75 per day, or a .023 rate). How many days of data do we have to collect in order to get enough visitors to detect this new rate at an overall 5% Type I error rate and at 80% power."
   ]
  },
  {
   "cell_type": "code",
   "execution_count": 2,
   "metadata": {},
   "outputs": [
    {
     "name": "stdout",
     "output_type": "stream",
     "text": [
      "min number of samples per group to achieve desired power: 9481.0\n",
      "days:  6.0\n"
     ]
    }
   ],
   "source": [
    "# input\n",
    "daily_visitors_per_group = 3250 / 2\n",
    "alpha_ind = 0.05 / 2\n",
    "\n",
    "# calculate sample size for each group according to question 1\n",
    "size = exp.calc_experiment_size(0.16, 0.175, alpha=alpha_ind, beta=0.2, two_tails=False)\n",
    "\n",
    "# calculate number of days according to question 1\n",
    "days = size / daily_visitors_per_group\n",
    "print(\"days: \", np.ceil(days))"
   ]
  },
  {
   "cell_type": "code",
   "execution_count": 3,
   "metadata": {},
   "outputs": [
    {
     "name": "stdout",
     "output_type": "stream",
     "text": [
      "min number of samples per group to achieve desired power: 34930.0\n",
      "days:  22.0\n"
     ]
    }
   ],
   "source": [
    "# calculate size according to question 2\n",
    "size = size = exp.calc_experiment_size(0.02, 0.023, alpha=alpha_ind, beta=0.2, two_tails=False)\n",
    "\n",
    "# calculate number of days\n",
    "days = size / daily_visitors_per_group\n",
    "print(\"days: \", np.ceil(days))"
   ]
  },
  {
   "cell_type": "markdown",
   "metadata": {},
   "source": [
    "\n",
    "__Final decision:__ One thing that isn't accounted for in the base experiment length calculations is that there is going to be a delay between when users download the software and when they actually purchase a license. Any purchases observed within the first week might not be attributable to either experimental condition. As a way of accounting for this, we'll run the experiment for about one week longer to allow those users who come in during the third week a chance to come back and be counted in the license purchases tally. \n",
    "\n",
    "--> __Runtime 30 days__, the number of license purchases will only include purchases by users who joined after the start of the experiment."
   ]
  },
  {
   "cell_type": "markdown",
   "metadata": {},
   "source": [
    "## 4. Analzye Results"
   ]
  },
  {
   "cell_type": "code",
   "execution_count": 4,
   "metadata": {},
   "outputs": [],
   "source": [
    "# load data\n",
    "data = pd.read_csv('data/homepage-experiment-data.csv', sep=';')\n",
    "data = cleaning.edit_column_names(data)"
   ]
  },
  {
   "cell_type": "markdown",
   "metadata": {},
   "source": [
    "### Basic EDA"
   ]
  },
  {
   "cell_type": "code",
   "execution_count": 5,
   "metadata": {},
   "outputs": [
    {
     "data": {
      "text/html": [
       "<div>\n",
       "<style scoped>\n",
       "    .dataframe tbody tr th:only-of-type {\n",
       "        vertical-align: middle;\n",
       "    }\n",
       "\n",
       "    .dataframe tbody tr th {\n",
       "        vertical-align: top;\n",
       "    }\n",
       "\n",
       "    .dataframe thead th {\n",
       "        text-align: right;\n",
       "    }\n",
       "</style>\n",
       "<table border=\"1\" class=\"dataframe\">\n",
       "  <thead>\n",
       "    <tr style=\"text-align: right;\">\n",
       "      <th></th>\n",
       "      <th>day</th>\n",
       "      <th>control_cookies</th>\n",
       "      <th>control_downloads</th>\n",
       "      <th>control_licenses</th>\n",
       "      <th>experiment_cookies</th>\n",
       "      <th>experiment_downloads</th>\n",
       "      <th>experiment_licenses</th>\n",
       "    </tr>\n",
       "  </thead>\n",
       "  <tbody>\n",
       "    <tr>\n",
       "      <th>0</th>\n",
       "      <td>1</td>\n",
       "      <td>1764</td>\n",
       "      <td>246</td>\n",
       "      <td>1</td>\n",
       "      <td>1850</td>\n",
       "      <td>339</td>\n",
       "      <td>3</td>\n",
       "    </tr>\n",
       "    <tr>\n",
       "      <th>1</th>\n",
       "      <td>2</td>\n",
       "      <td>1541</td>\n",
       "      <td>234</td>\n",
       "      <td>2</td>\n",
       "      <td>1590</td>\n",
       "      <td>281</td>\n",
       "      <td>2</td>\n",
       "    </tr>\n",
       "    <tr>\n",
       "      <th>2</th>\n",
       "      <td>3</td>\n",
       "      <td>1457</td>\n",
       "      <td>240</td>\n",
       "      <td>1</td>\n",
       "      <td>1515</td>\n",
       "      <td>274</td>\n",
       "      <td>1</td>\n",
       "    </tr>\n",
       "    <tr>\n",
       "      <th>3</th>\n",
       "      <td>4</td>\n",
       "      <td>1587</td>\n",
       "      <td>224</td>\n",
       "      <td>1</td>\n",
       "      <td>1541</td>\n",
       "      <td>284</td>\n",
       "      <td>2</td>\n",
       "    </tr>\n",
       "    <tr>\n",
       "      <th>4</th>\n",
       "      <td>5</td>\n",
       "      <td>1606</td>\n",
       "      <td>253</td>\n",
       "      <td>2</td>\n",
       "      <td>1643</td>\n",
       "      <td>292</td>\n",
       "      <td>3</td>\n",
       "    </tr>\n",
       "  </tbody>\n",
       "</table>\n",
       "</div>"
      ],
      "text/plain": [
       "   day  control_cookies  control_downloads  control_licenses  \\\n",
       "0    1             1764                246                 1   \n",
       "1    2             1541                234                 2   \n",
       "2    3             1457                240                 1   \n",
       "3    4             1587                224                 1   \n",
       "4    5             1606                253                 2   \n",
       "\n",
       "   experiment_cookies  experiment_downloads  experiment_licenses  \n",
       "0                1850                   339                    3  \n",
       "1                1590                   281                    2  \n",
       "2                1515                   274                    1  \n",
       "3                1541                   284                    2  \n",
       "4                1643                   292                    3  "
      ]
     },
     "metadata": {},
     "output_type": "display_data"
    },
    {
     "data": {
      "text/plain": [
       "(29, 7)"
      ]
     },
     "metadata": {},
     "output_type": "display_data"
    }
   ],
   "source": [
    "display(data.head())\n",
    "display(data.shape)"
   ]
  },
  {
   "cell_type": "code",
   "execution_count": 6,
   "metadata": {},
   "outputs": [
    {
     "data": {
      "text/plain": [
       "day                       435\n",
       "control_cookies         46851\n",
       "control_downloads        7554\n",
       "control_licenses          710\n",
       "experiment_cookies      47346\n",
       "experiment_downloads     8548\n",
       "experiment_licenses       732\n",
       "dtype: int64"
      ]
     },
     "execution_count": 6,
     "metadata": {},
     "output_type": "execute_result"
    }
   ],
   "source": [
    "data.sum()"
   ]
  },
  {
   "cell_type": "code",
   "execution_count": 7,
   "metadata": {},
   "outputs": [],
   "source": [
    "# define inputs for results calculations\n",
    "\n",
    "# for downloads (full period)\n",
    "n_exp_downloads = data['experiment_cookies'].sum()\n",
    "n_cont_downloads = data['control_cookies'].sum()\n",
    "n_pool_downloads = n_exp_downloads + n_cont_downloads\n",
    "\n",
    "x_cont_downloads = data['control_downloads'].sum() \n",
    "x_exp_downloads = data['experiment_downloads'].sum()\n",
    "\n",
    "# p_exp_downloads = data['experiment_downloads'].sum() / data['experiment_cookies'].sum()\n",
    "# p_cont_downloads = data['control_downloads'].sum() / data['control_cookies'].sum()\n",
    "\n",
    "# for licenses (cookies of first three weeks, purchases of last three weeks)\n",
    "n_exp_licenses = data.loc[:20, 'experiment_cookies'].sum()\n",
    "n_cont_licenses = data.loc[:20, 'control_cookies'].sum()\n",
    "n_pool_licenses = n_exp_licenses + n_cont_licenses\n",
    "\n",
    "x_exp_licenses =  data.loc[:, 'experiment_licenses'].sum()\n",
    "x_cont_licenses =  data.loc[:, 'control_licenses'].sum()"
   ]
  },
  {
   "cell_type": "markdown",
   "metadata": {},
   "source": [
    "### Check invariate metric\n",
    "\n",
    "- H0: control_cookies = experiment_cookies\n",
    "- H1: control_cookies <> experiment cookies (2-sided test)"
   ]
  },
  {
   "cell_type": "code",
   "execution_count": 8,
   "metadata": {},
   "outputs": [
    {
     "name": "stdout",
     "output_type": "stream",
     "text": [
      "OK: Observed difference in sizes is within expectations.\n",
      "proportion exp: 0.503 within lower bound : 0.497 and upper bound: 0.503\n",
      "p-value: 0.107 > alpha: 0.050\n"
     ]
    }
   ],
   "source": [
    "# check if population sizing for both groups is within expectations\n",
    "\n",
    "exp.calc_invariant_population(n_exp_downloads, n_cont_downloads)"
   ]
  },
  {
   "cell_type": "markdown",
   "metadata": {},
   "source": [
    "### Check eval metrics\n",
    "\n",
    "- H0: experiment_x = control_x\n",
    "- H1: experiment_x > control_x (1-sided test)"
   ]
  },
  {
   "cell_type": "code",
   "execution_count": 9,
   "metadata": {},
   "outputs": [
    {
     "name": "stdout",
     "output_type": "stream",
     "text": [
      "Observed difference: 0.0193 with lower bound: 0.0145 and upper bound: 0.0241\n",
      "p-value: 0.0000 < alpha: 0.025 (z-score: 7.8708)\n",
      "STATISTICALLY HO CAN BE REJECTED.\n"
     ]
    }
   ],
   "source": [
    "# calculate effect on downloads, NOTE: alpha is halved (Bonferroni correction because we do 2 tests)\n",
    "\n",
    "exp.calc_experiment_results(x_exp_downloads, x_cont_downloads, n_exp_downloads, n_cont_downloads, alpha=0.025, two_tails=False)"
   ]
  },
  {
   "cell_type": "code",
   "execution_count": 10,
   "metadata": {},
   "outputs": [
    {
     "name": "stdout",
     "output_type": "stream",
     "text": [
      "Observed difference: 0.0003 with lower bound: -0.0019 and upper bound: 0.0024\n",
      "p-value: 0.3979 >= alpha: 0.025 (z-score: 0.2587)\n",
      "STATISTICALLY HO CAN NOT BE REJECTED.\n"
     ]
    }
   ],
   "source": [
    "# calculate effect on licenses, NOTE: alpha is halved (Bonferroni correction because we do 2 tests)\n",
    "\n",
    "exp.calc_experiment_results(x_exp_licenses, x_cont_licenses, n_exp_licenses, n_cont_licenses, alpha=0.025, two_tails=False)"
   ]
  },
  {
   "cell_type": "markdown",
   "metadata": {},
   "source": [
    "### 5. Draw Conclusions\n",
    "\n",
    "Despite the fact that statistical significance wasn't obtained for the number of licenses purchased, the new homepage appeared to have a strong effect on the number of downloads made. _Based on our goals, this seems enough to suggest replacing the old homepage with the new homepage._ \n",
    "\n",
    "Establishing whether there was a significant increase in the number of license purchases, either through the rate or the increase in the number of homepage visits, will need further experiments or data collection."
   ]
  },
  {
   "cell_type": "markdown",
   "metadata": {},
   "source": [
    "---"
   ]
  },
  {
   "cell_type": "markdown",
   "metadata": {},
   "source": [
    "## Case Study 2: Click-trough-probability\n",
    "\n",
    "__Scenario:__ We want to change a webpage layout to increase the CTP (click-trough-probability = number of unique visitors that click at least once / number of unique visitors that visit the page) for a specific button. First we observe the acutal CTP and calculate the confidence intervall to see what fluctuation we can typically expect."
   ]
  },
  {
   "cell_type": "markdown",
   "metadata": {},
   "source": [
    "### Assess initial situation"
   ]
  },
  {
   "cell_type": "code",
   "execution_count": 11,
   "metadata": {},
   "outputs": [
    {
     "name": "stdout",
     "output_type": "stream",
     "text": [
      "Initial CPT (old layout):  0.15\n"
     ]
    }
   ],
   "source": [
    "# collect observations \n",
    "\n",
    "n = 2000 # total unique visitors to page\n",
    "clicks = 300 # unique visitors who click\n",
    "p = 300 / 2000 # success rate as proportion\n",
    "\n",
    "# return initial CPT\n",
    "print(\"Initial CPT (old layout): \", p)"
   ]
  },
  {
   "cell_type": "code",
   "execution_count": 12,
   "metadata": {},
   "outputs": [
    {
     "name": "stdout",
     "output_type": "stream",
     "text": [
      "assumption of normal distribution ok (rule of thumb)\n"
     ]
    }
   ],
   "source": [
    "# safety check if we can assume a normal distribution for our calculations\n",
    "\n",
    "assert (n * p > 5)  and  (n * (1-p) > 5), \"n too small for assumption of normal distribution\"\n",
    "print(\"assumption of normal distribution ok (rule of thumb)\")"
   ]
  },
  {
   "cell_type": "code",
   "execution_count": 13,
   "metadata": {},
   "outputs": [
    {
     "name": "stdout",
     "output_type": "stream",
     "text": [
      "lower bound: 0.1344, upper bound: 0.1656\n"
     ]
    }
   ],
   "source": [
    "# calculate lower and upper bounds of 95% confidence intervall (with custom function)\n",
    "\n",
    "exp.calc_confidence_bounds_binomial(p=p, n=n, alpha=0.05)"
   ]
  },
  {
   "cell_type": "markdown",
   "metadata": {},
   "source": [
    "## Design Experiment\n",
    "\n",
    "### 1. Formulate Hipotheses\n",
    "\n",
    "- H0: p_exp - p_cont = 0\n",
    "- H1: p_exp - p_cont <> 0    _# reject null, in this case as two-sided test_ \n",
    "    \n",
    "Hypothesis Testing: Calculate the probabilty that the results occured by chance == Calculate P(p_exp - p_cont = 0 | H0)\n",
    "> if that P is small enough (P < alpha) we can reject the null hypotehsis\n",
    "\n",
    "### 2. Decide on Practical Significance\n",
    "\n",
    "The practical significance we want to achieve so that we can justify the investments for the change. Can be higher than the statistical significance.\n",
    "\n",
    "### 3. Calculate Size of Experiment\n",
    "\n",
    "The size is interrelated with the sensivity / statistical power of the experiment(1 - beta). The bigger the size (and the effect) the higher it is / the lower is beta. The sensivity is tricky to calculate so it is easyest to use an [online calculator](http://www.evanmiller.org/ab-testing/sample-size.html)."
   ]
  },
  {
   "cell_type": "code",
   "execution_count": 14,
   "metadata": {},
   "outputs": [
    {
     "name": "stdout",
     "output_type": "stream",
     "text": [
      "min number of samples per group to achieve desired power: 5084.0\n"
     ]
    },
    {
     "data": {
      "text/plain": [
       "5084.0"
      ]
     },
     "execution_count": 14,
     "metadata": {},
     "output_type": "execute_result"
    }
   ],
   "source": [
    "exp.calc_experiment_size(0.15, 0.17, alpha=0.05, two_tails=True)"
   ]
  },
  {
   "cell_type": "markdown",
   "metadata": {},
   "source": [
    "## Check invariants\n",
    "\n",
    "In this case only the population sizing is checked:\n",
    "1. Compute standard error (standard deviation of the sampling distribution for the proportion) of binomial with p = 0.5\n",
    "2. Multiply by z-score to get the margin of error m\n",
    "3. Compute confidence interval around 0.5\n",
    "4. Check wether observed fraction is within interval"
   ]
  },
  {
   "cell_type": "code",
   "execution_count": 15,
   "metadata": {},
   "outputs": [
    {
     "name": "stdout",
     "output_type": "stream",
     "text": [
      "OK: Observed difference in sizes is within expectations.\n",
      "proportion exp: 0.499 within lower bound : 0.497 and upper bound: 0.503\n",
      "p-value: 0.300 > alpha: 0.050\n"
     ]
    }
   ],
   "source": [
    "exp.calc_invariant_population(61454, 61818)"
   ]
  },
  {
   "cell_type": "markdown",
   "metadata": {},
   "source": [
    "## Calculate Results"
   ]
  },
  {
   "cell_type": "code",
   "execution_count": 16,
   "metadata": {},
   "outputs": [],
   "source": [
    "# collect observations \n",
    "\n",
    "x_exp = 1242 # unique visitors in experiment group who click\n",
    "x_cont = 974 # unique visitors in control group who click\n",
    "n_exp = 9886 # total unique visitors to page in experiment group \n",
    "n_cont = 10072 # total unique visitors to page in control group"
   ]
  },
  {
   "cell_type": "code",
   "execution_count": 17,
   "metadata": {},
   "outputs": [
    {
     "name": "stdout",
     "output_type": "stream",
     "text": [
      "Observed difference: 0.0289 with lower bound: 0.0202 and upper bound: 0.0376\n",
      "p-value: 0.0000 < alpha: 0.050 (z-score: 6.5038)\n",
      "STATISTICALLY HO CAN BE REJECTED.\n"
     ]
    }
   ],
   "source": [
    "exp.calc_experiment_results(x_exp=x_exp, x_cont=x_cont, n_exp=n_exp, n_cont=n_cont, alpha=0.05, two_tails=True)"
   ]
  },
  {
   "cell_type": "markdown",
   "metadata": {},
   "source": [
    "## Draw Conclusions\n",
    "\n",
    "As the lower bound of the calculated effect is above the practical significance threshold, the change should be made."
   ]
  },
  {
   "cell_type": "markdown",
   "metadata": {},
   "source": [
    "---"
   ]
  }
 ],
 "metadata": {
  "kernelspec": {
   "display_name": "Python [conda env:Anaconda3]",
   "language": "python",
   "name": "conda-env-Anaconda3-py"
  },
  "language_info": {
   "codemirror_mode": {
    "name": "ipython",
    "version": 3
   },
   "file_extension": ".py",
   "mimetype": "text/x-python",
   "name": "python",
   "nbconvert_exporter": "python",
   "pygments_lexer": "ipython3",
   "version": "3.6.3"
  }
 },
 "nbformat": 4,
 "nbformat_minor": 2
}
