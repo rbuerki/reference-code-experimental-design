{
 "cells": [
  {
   "cell_type": "markdown",
   "metadata": {},
   "source": [
    "# Example of Hypothesis Testing (T-Test) - Analyze Stroop Effect\n",
    "\n",
    "__The objective in this notebook is to demonstrate hypothesis testing based on observation regarding the so called [Stroop Effect](https://en.wikipedia.org/wiki/Stroop_effect).__"
   ]
  },
  {
   "cell_type": "markdown",
   "metadata": {},
   "source": [
    "__Variables:__ \n",
    "- independent variable: word-colour combination (in two series, congruent and incongruent)\n",
    "- dependent variable: time it takes participants to name the correct ink colors\n",
    "\n",
    "__Set of hypothesis:__\n",
    "- H0 (null hypothesis): there is no signifcant difference in the times it takes the participants to name the correct ink colors for the two sets. This means the two means for congruent and incongruent are the same: H0: μC = μI --> This hypothesis is to be nullified.\n",
    "- H1 (alternative hypothsis): it takes the participants longer to name the correct ink colors for the incongruent set than for the congruent one. H1: μI > μC -->This hypothesis is to be tested.\n",
    "\n",
    "Taking into account the experiment set-up and task, it makes no sense to test if the participants name the correct ink colors faster for the incongruent set than for the congruent one, so H1 is a directional hypothesis and I will use a *one-sided test* later on.\n",
    "\n",
    "__Test statistic:__\n",
    "We have less than 30 samples and don't know the population standard deviation, so I choose a t-test. As the 2 samples are collected from the same participants I will use a *paired / dependent 2-sample-t-test.*\n"
   ]
  },
  {
   "cell_type": "markdown",
   "metadata": {},
   "source": [
    "### Load libraries, import data"
   ]
  },
  {
   "cell_type": "code",
   "execution_count": 23,
   "metadata": {},
   "outputs": [],
   "source": [
    "import numpy as np\n",
    "import pandas as pd\n",
    "from scipy.stats import iqr\n",
    "from scipy.stats import ttest_rel\n",
    "\n",
    "import matplotlib.pyplot as plt\n",
    "import seaborn as sns\n",
    "sns.set()   # sns.set_style('whitegrid')\n",
    "%matplotlib inline\n",
    "\n",
    "data = pd.read_csv('data/stroopdata.csv')"
   ]
  },
  {
   "cell_type": "markdown",
   "metadata": {},
   "source": [
    "### EDA"
   ]
  },
  {
   "cell_type": "code",
   "execution_count": 4,
   "metadata": {},
   "outputs": [
    {
     "data": {
      "text/html": [
       "<div>\n",
       "<style scoped>\n",
       "    .dataframe tbody tr th:only-of-type {\n",
       "        vertical-align: middle;\n",
       "    }\n",
       "\n",
       "    .dataframe tbody tr th {\n",
       "        vertical-align: top;\n",
       "    }\n",
       "\n",
       "    .dataframe thead th {\n",
       "        text-align: right;\n",
       "    }\n",
       "</style>\n",
       "<table border=\"1\" class=\"dataframe\">\n",
       "  <thead>\n",
       "    <tr style=\"text-align: right;\">\n",
       "      <th></th>\n",
       "      <th>Congruent</th>\n",
       "      <th>Incongruent</th>\n",
       "    </tr>\n",
       "  </thead>\n",
       "  <tbody>\n",
       "    <tr>\n",
       "      <th>0</th>\n",
       "      <td>12.079</td>\n",
       "      <td>19.278</td>\n",
       "    </tr>\n",
       "    <tr>\n",
       "      <th>1</th>\n",
       "      <td>16.791</td>\n",
       "      <td>18.741</td>\n",
       "    </tr>\n",
       "    <tr>\n",
       "      <th>2</th>\n",
       "      <td>9.564</td>\n",
       "      <td>21.214</td>\n",
       "    </tr>\n",
       "    <tr>\n",
       "      <th>3</th>\n",
       "      <td>8.630</td>\n",
       "      <td>15.687</td>\n",
       "    </tr>\n",
       "    <tr>\n",
       "      <th>4</th>\n",
       "      <td>14.669</td>\n",
       "      <td>22.803</td>\n",
       "    </tr>\n",
       "  </tbody>\n",
       "</table>\n",
       "</div>"
      ],
      "text/plain": [
       "   Congruent  Incongruent\n",
       "0     12.079       19.278\n",
       "1     16.791       18.741\n",
       "2      9.564       21.214\n",
       "3      8.630       15.687\n",
       "4     14.669       22.803"
      ]
     },
     "metadata": {},
     "output_type": "display_data"
    },
    {
     "data": {
      "text/plain": [
       "(24, 2)"
      ]
     },
     "metadata": {},
     "output_type": "display_data"
    }
   ],
   "source": [
    "display(data.head())\n",
    "display(data.shape)"
   ]
  },
  {
   "cell_type": "code",
   "execution_count": 1,
   "metadata": {},
   "outputs": [
    {
     "name": "stdout",
     "output_type": "stream",
     "text": [
      "Congruent      14.051125\n",
      "Incongruent    22.015917\n",
      "dtype: float64\n",
      "\n",
      "\n",
      "Congruent      3.559358\n",
      "Incongruent    4.797057\n",
      "dtype: float64\n",
      "\n",
      "\n",
      "[ 11.89525  14.3565   16.20075]\n",
      "[ 18.71675  21.0175   24.0515 ]\n",
      "\n",
      "\n",
      "4.3055\n",
      "5.33475\n"
     ]
    }
   ],
   "source": [
    "print(np.mean(data))\n",
    "print('\\n')\n",
    "print(np.std(data, ddof=1))  # ddof set to get sample std\n",
    "print('\\n')\n",
    "print(np.percentile(data['Congruent'], [25, 50, 75]))\n",
    "print(np.percentile(data['Incongruent'], [25, 50, 75]))\n",
    "print('\\n')\n",
    "print(iqr(data['Congruent'], axis=0))\n",
    "print(iqr(data['Incongruent'], axis=0))"
   ]
  },
  {
   "cell_type": "markdown",
   "metadata": {},
   "source": [
    "__Observations:__ Relatively big difference in means, whereas the difference in the measures of dispersion / variability isn't so big. This points to a significant difference between the values of the two sets."
   ]
  },
  {
   "cell_type": "code",
   "execution_count": 22,
   "metadata": {},
   "outputs": [
    {
     "data": {
      "image/png": "[encoded data removed]",
      "text/plain": [
       "<Figure size 1152x432 with 2 Axes>"
      ]
     },
     "metadata": {
      "needs_background": "light"
     },
     "output_type": "display_data"
    }
   ],
   "source": [
    "plt.figure(figsize=(16,6))\n",
    "\n",
    "plt.subplot(1,2,1)\n",
    "\n",
    "_ = sns.swarmplot(data=data, palette=\"Set1_r\")\n",
    "_ = plt.xlabel('Words')\n",
    "_ = plt.ylabel ('Time')\n",
    "\n",
    "_ = sns.boxplot(data=data, palette=\"coolwarm\")\n",
    "_ = plt.xlabel('Words')\n",
    "_ = plt.ylabel ('Time')\n",
    "\n",
    "plt.subplot(1,2,2)\n",
    "\n",
    "_ = sns.distplot(data['Congruent'], kde = True, bins = 10)\n",
    "_ = sns.distplot(data['Incongruent'], kde = True, bins = 10)\n",
    "_ = plt.xlabel('Time')"
   ]
  },
  {
   "cell_type": "markdown",
   "metadata": {},
   "source": [
    " __Observations:__\n",
    " \n",
    " - Boxplot (with swarmplot overlay) confirm descriptive statistics: The reaction times for the incongruent combinations are generally considerably higher than those of the congruent combinations. The inter-quartile ranges don't even overlap. Remarkable are two massive oultiers in the incongruent dataset.\n",
    " - Distplot shows that the data is more or less normally distributed, (although the two outliers mentioned above disturb the picture somewhat)"
   ]
  },
  {
   "cell_type": "markdown",
   "metadata": {},
   "source": [
    "## Statistical Test "
   ]
  },
  {
   "cell_type": "code",
   "execution_count": 25,
   "metadata": {},
   "outputs": [
    {
     "data": {
      "text/plain": [
       "Ttest_relResult(statistic=8.020706944109957, pvalue=4.103000585711178e-08)"
      ]
     },
     "execution_count": 25,
     "metadata": {},
     "output_type": "execute_result"
    }
   ],
   "source": [
    "# H0: Congruent = Incongruent\n",
    "# H1: Incongruent > Congruent\n",
    "\n",
    "ttest_result = ttest_rel(data['Incongruent'], data['Congruent'])\n",
    "\n",
    "# check\n",
    "ttest_result"
   ]
  },
  {
   "cell_type": "code",
   "execution_count": 26,
   "metadata": {},
   "outputs": [
    {
     "name": "stdout",
     "output_type": "stream",
     "text": [
      "p-value:  2.051500292855589e-08\n"
     ]
    }
   ],
   "source": [
    "# As scipy calculates a two-sided t-test by default, the calculated p-value, has to be halfed\n",
    "print(\"p-value: \", ttest_result[1]/2)"
   ]
  },
  {
   "cell_type": "markdown",
   "metadata": {},
   "source": [
    "I calculate with a standard confidence level of 95%, which means the significance level is 0.05. (And that again means: When I act as if there is an effect when p<0.05, in the long run I won't be wrong more than 5% of the time.)\n",
    "\n",
    "__Conclusion:__ The resulting p-value of the t-test has to be lower than the siginificance level of 0.05 for H0 to be rejected. Indeed it is massivly smaller the the significance level. _H0 can be rejected for the given data, as had to be expected after the EDA._\n",
    "\n",
    "\n",
    "(resources used [stackoverflow, answer three](https://stackoverflow.com/questions/15984221/how-to-perform-two-sample-one-tailed-t-test-with-numpy-scipy))\n"
   ]
  },
  {
   "cell_type": "markdown",
   "metadata": {},
   "source": [
    "---"
   ]
  }
 ],
 "metadata": {
  "kernelspec": {
   "display_name": "Python [default]",
   "language": "python",
   "name": "python3"
  },
  "language_info": {
   "codemirror_mode": {
    "name": "ipython",
    "version": 3
   },
   "file_extension": ".py",
   "mimetype": "text/x-python",
   "name": "python",
   "nbconvert_exporter": "python",
   "pygments_lexer": "ipython3",
   "version": "3.6.3"
  }
 },
 "nbformat": 4,
 "nbformat_minor": 2
}
